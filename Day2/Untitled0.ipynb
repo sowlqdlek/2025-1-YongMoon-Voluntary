{
  "nbformat": 4,
  "nbformat_minor": 0,
  "metadata": {
    "colab": {
      "provenance": []
    },
    "kernelspec": {
      "name": "python3",
      "display_name": "Python 3"
    },
    "language_info": {
      "name": "python"
    }
  },
  "cells": [
    {
      "cell_type": "markdown",
      "source": [
        "순전파"
      ],
      "metadata": {
        "id": "SXJTQRt4EJc-"
      }
    },
    {
      "cell_type": "code",
      "execution_count": 7,
      "metadata": {
        "colab": {
          "base_uri": "https://localhost:8080/"
        },
        "id": "-a5HXHtGDKov",
        "outputId": "3a79fe58-42e8-44cd-aacf-9679993cdd28"
      },
      "outputs": [
        {
          "output_type": "stream",
          "name": "stdout",
          "text": [
            "입력 벡터 x: [[0.5 0.8 0.2]]\n",
            "은닉층 선형 출력 z1: [[0.8 1.4]]\n",
            "은닉층 활성화 a1 (ReLU): [[0.8 1.4]]\n",
            "출력층 선형 출력 z2: [[0.7]]\n",
            "최종 예측 y_pred (ReLU): [[0.7]]\n"
          ]
        }
      ],
      "source": [
        "import numpy as np\n",
        "\n",
        "# ReLU 함수 정의\n",
        "def relu(x):\n",
        "  return np.maximum(0,x)\n",
        "\n",
        "# 입력층 데이터(1*3)\n",
        "x = np.array([[0.5, 0.8, 0.2]])\n",
        "\n",
        "# 은닉층 가중치(3*2), 편향(1*2)\n",
        "W1 = np.array([\n",
        "    [1.0, -1.0],\n",
        "    [0.0, 2.0],\n",
        "    [1.0, 0.5]\n",
        "])\n",
        "\n",
        "b1 = np.array([[0.1, 0.2]])\n",
        "\n",
        "# 은닉층 계산\n",
        "z1 = x @ W1 + b1\n",
        "a1 = relu(z1)\n",
        "\n",
        "# 출력층 가중치(2*1), 편향(1*1)\n",
        "W2 = np.array([\n",
        "    [2.0],\n",
        "    [-1.0]\n",
        "])\n",
        "\n",
        "b2 = np.array([[0.5]])\n",
        "\n",
        "# 출력층 계산\n",
        "z2 = a1 @ W2 + b2\n",
        "y_pred = relu(z2)\n",
        "\n",
        "# 결과 출력\n",
        "print(\"입력 벡터 x:\", x)\n",
        "print(\"은닉층 선형 출력 z1:\", z1)\n",
        "print(\"은닉층 활성화 a1 (ReLU):\", a1)\n",
        "print(\"출력층 선형 출력 z2:\", z2)\n",
        "print(\"최종 예측 y_pred (ReLU):\", y_pred)"
      ]
    },
    {
      "cell_type": "markdown",
      "source": [
        "역전파(직접 미분)"
      ],
      "metadata": {
        "id": "rSeYyTAwNbmK"
      }
    },
    {
      "cell_type": "code",
      "source": [
        "import numpy as np\n",
        "\n",
        "# ReLU 함수와 도함수 정의\n",
        "def relu(x):\n",
        "  return np.maximum(0,x)\n",
        "\n",
        "def relu_deriv(x):\n",
        "  return (x > 0).astype(float)\n",
        "\n",
        "# 입력층 데이터(1*3)\n",
        "x = np.array([[0.5, 0.8, 0.2]])\n",
        "\n",
        "# 정답값\n",
        "y = np.array([[1.0]])\n",
        "\n",
        "# 은닉층 가중치(3*2), 편향(1*2)\n",
        "W1 = np.array([\n",
        "    [1.0, -1.0],\n",
        "    [0.0, 2.0],\n",
        "    [1.0, 0.5]\n",
        "])\n",
        "\n",
        "b1 = np.array([[0.1, 0.2]])\n",
        "\n",
        "# 출력층 가중치(2*1), 편향(1*1)\n",
        "W2 = np.array([\n",
        "    [2.0],\n",
        "    [-1.0]\n",
        "])\n",
        "\n",
        "b2 = np.array([[0.5]])\n",
        "\n",
        "# 순전파 계산\n",
        "z1 = x @ W1 + b1\n",
        "a1 = relu(z1)\n",
        "z2 = a1 @ W2 + b2\n",
        "y_pred = relu(z2)\n",
        "\n",
        "# 손실함수\n",
        "loss = 0.5 * (y_pred - y) ** 2\n",
        "\n",
        "# --- 역전파 ---\n",
        "# 출력층 계산\n",
        "# dL_dW2 = dL_dy * dy_dz2 * dz2_dW2\n",
        "dL_dy = y_pred - y                     # dL/dy_pred\n",
        "dy_dz2 = relu_deriv(z2)                # ReLU 미분\n",
        "dz2 = dL_dy * dy_dz2                   # dL/dz2 (1,1)\n",
        "\n",
        "dW2 = a1.T @ dz2                       # (2,1)\n",
        "db2 = dz2                              # (1,1)\n",
        "\n",
        "# 은닉층 계산\n",
        "dz1 = dz2 @ W2.T * relu_deriv(z1)      # (1,2)\n",
        "dW1 = x.T @ dz1                        # (3,2)\n",
        "db1 = dz1                              # (1,2)\n",
        "\n",
        "# 가중치 및 편향 업데이트\n",
        "lr = 0.1\n",
        "\n",
        "W1 -= lr * dW1\n",
        "b1 -= lr * db1\n",
        "W2 -= lr * dW2\n",
        "b2 -= lr * db2\n",
        "\n",
        "# 두 번째 순전파\n",
        "z1_2 = x @ W1 + b1\n",
        "a1_2 = relu(z1_2)\n",
        "z2_2 = a1_2 @ W2 + b2\n",
        "y_pred_2 = relu(z2_2)\n",
        "loss_2 = 0.5 * (y_pred_2 - y) ** 2\n",
        "\n",
        "# 결과 출력\n",
        "print(\"---순전파---\")\n",
        "print(\"z1:\", z1)\n",
        "print(\"a1:\", a1)\n",
        "print(\"z2:\", z2)\n",
        "print(\"y_pred:\", y_pred)\n",
        "print(\"loss:\", loss.item())\n",
        "\n",
        "print(\"\\n---역전파---\")\n",
        "print(\"dW2:\", dW2)\n",
        "print(\"db2:\", db2)\n",
        "print(\"dW1:\", dW1)\n",
        "print(\"db1:\", db1)\n",
        "\n",
        "print(\"\\n---업데이트 후---\")\n",
        "print(\"W1:\", W1)\n",
        "print(\"b1:\", b1)\n",
        "print(\"W2:\", W2)\n",
        "print(\"b2:\", b2)\n",
        "\n",
        "print(\"\\n---두 번째 순전파---\")\n",
        "print(\"z1:\", z1_2)\n",
        "print(\"a1:\", a1_2)\n",
        "print(\"z2:\", z2_2)\n",
        "print(\"y_pred:\", y_pred_2)\n",
        "print(\"loss:\", loss_2.item())"
      ],
      "metadata": {
        "colab": {
          "base_uri": "https://localhost:8080/"
        },
        "id": "WLM6BMETNqMO",
        "outputId": "b91f72f9-1db4-42af-a240-de08af7a405c"
      },
      "execution_count": 8,
      "outputs": [
        {
          "output_type": "stream",
          "name": "stdout",
          "text": [
            "---순전파---\n",
            "z1: [[0.8 1.4]]\n",
            "a1: [[0.8 1.4]]\n",
            "z2: [[0.7]]\n",
            "y_pred: [[0.7]]\n",
            "loss: 0.04500000000000008\n",
            "\n",
            "---역전파---\n",
            "dW2: [[-0.24]\n",
            " [-0.42]]\n",
            "db2: [[-0.3]]\n",
            "dW1: [[-0.3   0.15]\n",
            " [-0.48  0.24]\n",
            " [-0.12  0.06]]\n",
            "db1: [[-0.6  0.3]]\n",
            "\n",
            "---업데이트 후---\n",
            "W1: [[ 1.03  -1.015]\n",
            " [ 0.048  1.976]\n",
            " [ 1.012  0.494]]\n",
            "b1: [[0.16 0.17]]\n",
            "W2: [[ 2.024]\n",
            " [-0.958]]\n",
            "b2: [[0.53]]\n",
            "\n",
            "---두 번째 순전파---\n",
            "z1: [[0.9158 1.3421]]\n",
            "a1: [[0.9158 1.3421]]\n",
            "z2: [[1.0978474]]\n",
            "y_pred: [[1.0978474]]\n",
            "loss: 0.004787056843380046\n"
          ]
        }
      ]
    },
    {
      "cell_type": "markdown",
      "source": [
        "역전파(파이토치 사용)"
      ],
      "metadata": {
        "id": "PQA7zEPAT2ga"
      }
    },
    {
      "cell_type": "code",
      "source": [
        "import torch\n",
        "import torch.nn.functional as F\n",
        "\n",
        "# 입력과 정답\n",
        "x = torch.tensor([[0.5, 0.8, 0.2]], dtype=torch.float32)\n",
        "y = torch.tensor([[1.0]], dtype=torch.float32)\n",
        "\n",
        "# 초기 가중치 및 편향\n",
        "W1 = torch.tensor([[1.0, -1.0],\n",
        "                   [0.0, 2.0],\n",
        "                   [1.0, 0.5]], dtype=torch.float32, requires_grad=True)\n",
        "b1 = torch.tensor([[0.1, 0.2]], dtype=torch.float32, requires_grad=True)\n",
        "\n",
        "W2 = torch.tensor([[2.0],\n",
        "                   [-1.0]], dtype=torch.float32, requires_grad=True)\n",
        "b2 = torch.tensor([[0.5]], dtype=torch.float32, requires_grad=True)\n",
        "\n",
        "# 순전파 (올바른 편향 사용)\n",
        "z1 = x @ W1 + b1\n",
        "a1 = F.relu(z1)\n",
        "z2 = a1 @ W2 + b2\n",
        "y_pred = F.relu(z2)\n",
        "loss = 0.5 * (y_pred - y) ** 2\n",
        "\n",
        "# 역전파\n",
        "loss.backward()\n",
        "\n",
        "# 파라미터 업데이트\n",
        "lr = 0.1\n",
        "with torch.no_grad():\n",
        "    W1 -= lr * W1.grad\n",
        "    b1 -= lr * b1.grad\n",
        "    W2 -= lr * W2.grad\n",
        "    b2 -= lr * b2.grad\n",
        "\n",
        "    # 기울기 초기화\n",
        "    W1.grad.zero_()\n",
        "    b1.grad.zero_()\n",
        "    W2.grad.zero_()\n",
        "    b2.grad.zero_()\n",
        "\n",
        "# 두 번째 순전파 (업데이트된 파라미터 사용)\n",
        "z1_2 = x @ W1 + b1\n",
        "a1_2 = F.relu(z1_2)\n",
        "z2_2 = a1_2 @ W2 + b2\n",
        "y_pred_2 = F.relu(z2_2)\n",
        "loss_2 = 0.5 * (y_pred_2 - y) ** 2\n",
        "\n",
        "# 출력\n",
        "print(\"y_pred after 1 update:\", y_pred_2.item())\n",
        "print(\"loss after 1 update:\", loss_2.item())\n"
      ],
      "metadata": {
        "colab": {
          "base_uri": "https://localhost:8080/"
        },
        "id": "JOu98UP-Rws_",
        "outputId": "f5c8fe4a-4a29-4e9b-eaef-b3bb1bf94334"
      },
      "execution_count": 19,
      "outputs": [
        {
          "output_type": "stream",
          "name": "stdout",
          "text": [
            "y_pred after 1 update: 1.09784734249115\n",
            "loss after 1 update: 0.004787051118910313\n"
          ]
        }
      ]
    }
  ]
}